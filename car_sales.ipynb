{
 "cells": [
  {
   "cell_type": "code",
   "execution_count": 1,
   "id": "e097e3e3-f668-49a0-b6ff-243e6a1a55c5",
   "metadata": {},
   "outputs": [
    {
     "data": {
      "text/html": [
       "<div>\n",
       "<style scoped>\n",
       "    .dataframe tbody tr th:only-of-type {\n",
       "        vertical-align: middle;\n",
       "    }\n",
       "\n",
       "    .dataframe tbody tr th {\n",
       "        vertical-align: top;\n",
       "    }\n",
       "\n",
       "    .dataframe thead th {\n",
       "        text-align: right;\n",
       "    }\n",
       "</style>\n",
       "<table border=\"1\" class=\"dataframe\">\n",
       "  <thead>\n",
       "    <tr style=\"text-align: right;\">\n",
       "      <th></th>\n",
       "      <th>Manufacturer</th>\n",
       "      <th>Model</th>\n",
       "      <th>Sales in thousands</th>\n",
       "      <th>4-year resale value</th>\n",
       "      <th>Vehicle type</th>\n",
       "      <th>Price in thousands</th>\n",
       "      <th>Engine size</th>\n",
       "      <th>Horsepower</th>\n",
       "      <th>Wheelbase</th>\n",
       "      <th>Width</th>\n",
       "      <th>Length</th>\n",
       "      <th>Curb weight</th>\n",
       "      <th>Fuel capacity</th>\n",
       "      <th>Fuel efficiency</th>\n",
       "      <th>Latest Launch</th>\n",
       "    </tr>\n",
       "  </thead>\n",
       "  <tbody>\n",
       "    <tr>\n",
       "      <th>0</th>\n",
       "      <td>Acura</td>\n",
       "      <td>Integra</td>\n",
       "      <td>16.919</td>\n",
       "      <td>16.36</td>\n",
       "      <td>Passenger</td>\n",
       "      <td>21.5</td>\n",
       "      <td>1.8</td>\n",
       "      <td>140</td>\n",
       "      <td>101.2</td>\n",
       "      <td>67.3</td>\n",
       "      <td>172.4</td>\n",
       "      <td>2.639</td>\n",
       "      <td>13.2</td>\n",
       "      <td>28</td>\n",
       "      <td>2-Feb-14</td>\n",
       "    </tr>\n",
       "  </tbody>\n",
       "</table>\n",
       "</div>"
      ],
      "text/plain": [
       "    Manufacturer              Model  Sales in thousands 4-year resale value  \\\n",
       "0  Acura          Integra                        16.919               16.36   \n",
       "\n",
       "  Vehicle type Price in thousands Engine size Horsepower Wheelbase Width  \\\n",
       "0    Passenger               21.5         1.8        140     101.2  67.3   \n",
       "\n",
       "  Length Curb weight Fuel capacity Fuel efficiency Latest Launch  \n",
       "0  172.4       2.639          13.2              28      2-Feb-14  "
      ]
     },
     "execution_count": 1,
     "metadata": {},
     "output_type": "execute_result"
    }
   ],
   "source": [
    "import pandas as pd\n",
    "df=pd.read_csv(r'Car_sales.csv')\n",
    "df.head(1)"
   ]
  },
  {
   "cell_type": "code",
   "execution_count": 2,
   "id": "b395fdab-fb8a-4113-bc1d-b8f3b3a4b468",
   "metadata": {},
   "outputs": [
    {
     "data": {
      "text/plain": [
       "Manufacturer           0\n",
       "Model                  0\n",
       "Sales in thousands     0\n",
       "4-year resale value    0\n",
       "Vehicle type           0\n",
       "Price in thousands     0\n",
       "Engine size            0\n",
       "Horsepower             0\n",
       "Wheelbase              0\n",
       "Width                  0\n",
       "Length                 0\n",
       "Curb weight            0\n",
       "Fuel capacity          0\n",
       "Fuel efficiency        0\n",
       "Latest Launch          0\n",
       "dtype: int64"
      ]
     },
     "execution_count": 2,
     "metadata": {},
     "output_type": "execute_result"
    }
   ],
   "source": [
    "df.isnull().sum()"
   ]
  },
  {
   "cell_type": "code",
   "execution_count": 3,
   "id": "e5837cce-2183-465b-85ec-1768269ec298",
   "metadata": {},
   "outputs": [
    {
     "data": {
      "text/plain": [
       "(157, 15)"
      ]
     },
     "execution_count": 3,
     "metadata": {},
     "output_type": "execute_result"
    }
   ],
   "source": [
    "df.shape"
   ]
  },
  {
   "cell_type": "code",
   "execution_count": 4,
   "id": "e623732b-c716-49d1-9fa9-4e933fe3c613",
   "metadata": {},
   "outputs": [
    {
     "data": {
      "text/html": [
       "<div>\n",
       "<style scoped>\n",
       "    .dataframe tbody tr th:only-of-type {\n",
       "        vertical-align: middle;\n",
       "    }\n",
       "\n",
       "    .dataframe tbody tr th {\n",
       "        vertical-align: top;\n",
       "    }\n",
       "\n",
       "    .dataframe thead th {\n",
       "        text-align: right;\n",
       "    }\n",
       "</style>\n",
       "<table border=\"1\" class=\"dataframe\">\n",
       "  <thead>\n",
       "    <tr style=\"text-align: right;\">\n",
       "      <th></th>\n",
       "      <th>Manufacturer</th>\n",
       "      <th>Model</th>\n",
       "      <th>Sales in thousands</th>\n",
       "      <th>4-year resale value</th>\n",
       "      <th>Vehicle type</th>\n",
       "      <th>Price in thousands</th>\n",
       "      <th>Engine size</th>\n",
       "      <th>Horsepower</th>\n",
       "      <th>Wheelbase</th>\n",
       "      <th>Width</th>\n",
       "      <th>Length</th>\n",
       "      <th>Curb weight</th>\n",
       "      <th>Fuel capacity</th>\n",
       "      <th>Fuel efficiency</th>\n",
       "      <th>Latest Launch</th>\n",
       "    </tr>\n",
       "  </thead>\n",
       "  <tbody>\n",
       "    <tr>\n",
       "      <th>0</th>\n",
       "      <td>Acura</td>\n",
       "      <td>Integra</td>\n",
       "      <td>16.919</td>\n",
       "      <td>16.36</td>\n",
       "      <td>Passenger</td>\n",
       "      <td>21.5</td>\n",
       "      <td>1.8</td>\n",
       "      <td>140</td>\n",
       "      <td>101.2</td>\n",
       "      <td>67.3</td>\n",
       "      <td>172.4</td>\n",
       "      <td>2.639</td>\n",
       "      <td>13.2</td>\n",
       "      <td>28</td>\n",
       "      <td>2-Feb-14</td>\n",
       "    </tr>\n",
       "    <tr>\n",
       "      <th>1</th>\n",
       "      <td>Acura</td>\n",
       "      <td>TL</td>\n",
       "      <td>39.384</td>\n",
       "      <td>19.875</td>\n",
       "      <td>Passenger</td>\n",
       "      <td>28.4</td>\n",
       "      <td>3.2</td>\n",
       "      <td>225</td>\n",
       "      <td>108.1</td>\n",
       "      <td>70.3</td>\n",
       "      <td>192.9</td>\n",
       "      <td>3.517</td>\n",
       "      <td>17.2</td>\n",
       "      <td>25</td>\n",
       "      <td>6-Mar-15</td>\n",
       "    </tr>\n",
       "    <tr>\n",
       "      <th>2</th>\n",
       "      <td>Acura</td>\n",
       "      <td>CL</td>\n",
       "      <td>14.114</td>\n",
       "      <td>18.225</td>\n",
       "      <td>Passenger</td>\n",
       "      <td>.</td>\n",
       "      <td>3.2</td>\n",
       "      <td>225</td>\n",
       "      <td>106.9</td>\n",
       "      <td>70.6</td>\n",
       "      <td>192</td>\n",
       "      <td>3.47</td>\n",
       "      <td>17.2</td>\n",
       "      <td>26</td>\n",
       "      <td>1-Apr-14</td>\n",
       "    </tr>\n",
       "    <tr>\n",
       "      <th>3</th>\n",
       "      <td>Acura</td>\n",
       "      <td>RL</td>\n",
       "      <td>8.588</td>\n",
       "      <td>29.725</td>\n",
       "      <td>Passenger</td>\n",
       "      <td>42</td>\n",
       "      <td>3.5</td>\n",
       "      <td>210</td>\n",
       "      <td>114.6</td>\n",
       "      <td>71.4</td>\n",
       "      <td>196.6</td>\n",
       "      <td>3.85</td>\n",
       "      <td>18</td>\n",
       "      <td>22</td>\n",
       "      <td>3-Oct-15</td>\n",
       "    </tr>\n",
       "    <tr>\n",
       "      <th>4</th>\n",
       "      <td>Audi</td>\n",
       "      <td>A4</td>\n",
       "      <td>20.397</td>\n",
       "      <td>22.255</td>\n",
       "      <td>Passenger</td>\n",
       "      <td>23.99</td>\n",
       "      <td>1.8</td>\n",
       "      <td>150</td>\n",
       "      <td>102.6</td>\n",
       "      <td>68.2</td>\n",
       "      <td>178</td>\n",
       "      <td>2.998</td>\n",
       "      <td>16.4</td>\n",
       "      <td>27</td>\n",
       "      <td>10-Aug-15</td>\n",
       "    </tr>\n",
       "  </tbody>\n",
       "</table>\n",
       "</div>"
      ],
      "text/plain": [
       "    Manufacturer              Model  Sales in thousands 4-year resale value  \\\n",
       "0  Acura          Integra                        16.919               16.36   \n",
       "1  Acura          TL                             39.384              19.875   \n",
       "2  Acura          CL                             14.114              18.225   \n",
       "3  Acura          RL                              8.588              29.725   \n",
       "4  Audi           A4                             20.397              22.255   \n",
       "\n",
       "  Vehicle type Price in thousands Engine size Horsepower Wheelbase Width  \\\n",
       "0    Passenger               21.5         1.8        140     101.2  67.3   \n",
       "1    Passenger               28.4         3.2        225     108.1  70.3   \n",
       "2    Passenger                  .         3.2        225     106.9  70.6   \n",
       "3    Passenger                 42         3.5        210     114.6  71.4   \n",
       "4    Passenger              23.99         1.8        150     102.6  68.2   \n",
       "\n",
       "  Length Curb weight Fuel capacity Fuel efficiency Latest Launch  \n",
       "0  172.4       2.639          13.2              28      2-Feb-14  \n",
       "1  192.9       3.517          17.2              25      6-Mar-15  \n",
       "2    192        3.47          17.2              26      1-Apr-14  \n",
       "3  196.6        3.85            18              22      3-Oct-15  \n",
       "4    178       2.998          16.4              27     10-Aug-15  "
      ]
     },
     "execution_count": 4,
     "metadata": {},
     "output_type": "execute_result"
    }
   ],
   "source": [
    "df.head()"
   ]
  },
  {
   "cell_type": "code",
   "execution_count": 5,
   "id": "20d0f37c-c4db-4107-b400-dbec406eb9c7",
   "metadata": {},
   "outputs": [
    {
     "data": {
      "text/plain": [
       "Manufacturer            object\n",
       "Model                   object\n",
       "Sales in thousands     float64\n",
       "4-year resale value     object\n",
       "Vehicle type            object\n",
       "Price in thousands      object\n",
       "Engine size             object\n",
       "Horsepower              object\n",
       "Wheelbase               object\n",
       "Width                   object\n",
       "Length                  object\n",
       "Curb weight             object\n",
       "Fuel capacity           object\n",
       "Fuel efficiency         object\n",
       "Latest Launch           object\n",
       "dtype: object"
      ]
     },
     "execution_count": 5,
     "metadata": {},
     "output_type": "execute_result"
    }
   ],
   "source": [
    "df.dtypes"
   ]
  },
  {
   "cell_type": "code",
   "execution_count": 6,
   "id": "73cb6473-e404-441d-978b-20a47b06c884",
   "metadata": {},
   "outputs": [
    {
     "data": {
      "text/plain": [
       "Manufacturer\n",
       "Dodge            11\n",
       "Ford             11\n",
       "Toyota            9\n",
       "Chevrolet         9\n",
       "Mercedes-Benz     9\n",
       "Mitsubishi        7\n",
       "Nissan            7\n",
       "Chrysler          7\n",
       "Volvo             6\n",
       "Oldsmobile        6\n",
       "Lexus             6\n",
       "Mercury           6\n",
       "Pontiac           6\n",
       "Volkswagen        6\n",
       "Saturn            5\n",
       "Cadillac          5\n",
       "Honda             5\n",
       "Plymouth          4\n",
       "Acura             4\n",
       "Buick             4\n",
       "Audi              3\n",
       "Jeep              3\n",
       "Porsche           3\n",
       "Hyundai           3\n",
       "BMW               3\n",
       "Lincoln           3\n",
       "Saab              2\n",
       "Subaru            2\n",
       "Jaguar            1\n",
       "Infiniti          1\n",
       "Name: count, dtype: int64"
      ]
     },
     "execution_count": 6,
     "metadata": {},
     "output_type": "execute_result"
    }
   ],
   "source": [
    "df['Manufacturer'].value_counts()"
   ]
  },
  {
   "cell_type": "code",
   "execution_count": 7,
   "id": "bf1373b1-e16c-4384-bf60-0f35c4b5cb36",
   "metadata": {},
   "outputs": [
    {
     "data": {
      "text/plain": [
       "Manufacturer\n",
       "Acura              79.005\n",
       "Audi               40.557\n",
       "BMW                46.505\n",
       "Buick             242.019\n",
       "Cadillac          112.178\n",
       "Chevrolet         554.365\n",
       "Chrysler          201.721\n",
       "Dodge             910.149\n",
       "Ford             2022.635\n",
       "Honda             592.674\n",
       "Hyundai           137.326\n",
       "Infiniti           23.713\n",
       "Jaguar             15.467\n",
       "Jeep              293.153\n",
       "Lexus             106.843\n",
       "Lincoln            85.634\n",
       "Mercedes-Benz     117.125\n",
       "Mercury           237.999\n",
       "Mitsubishi        180.895\n",
       "Nissan            399.635\n",
       "Oldsmobile        178.989\n",
       "Plymouth           64.001\n",
       "Pontiac           370.534\n",
       "Porsche            12.128\n",
       "Saab               21.306\n",
       "Saturn            168.850\n",
       "Subaru             80.135\n",
       "Toyota            740.205\n",
       "Volkswagen        209.212\n",
       "Volvo              75.740\n",
       "Name: Sales in thousands, dtype: float64"
      ]
     },
     "execution_count": 7,
     "metadata": {},
     "output_type": "execute_result"
    }
   ],
   "source": [
    "total_sales=df.groupby('Manufacturer')['Sales in thousands'].sum()\n",
    "total_sales"
   ]
  },
  {
   "cell_type": "code",
   "execution_count": 8,
   "id": "ef41990e-3efa-4e3b-a897-f013a9c1c32b",
   "metadata": {},
   "outputs": [
    {
     "data": {
      "text/html": [
       "<div>\n",
       "<style scoped>\n",
       "    .dataframe tbody tr th:only-of-type {\n",
       "        vertical-align: middle;\n",
       "    }\n",
       "\n",
       "    .dataframe tbody tr th {\n",
       "        vertical-align: top;\n",
       "    }\n",
       "\n",
       "    .dataframe thead th {\n",
       "        text-align: right;\n",
       "    }\n",
       "</style>\n",
       "<table border=\"1\" class=\"dataframe\">\n",
       "  <thead>\n",
       "    <tr style=\"text-align: right;\">\n",
       "      <th></th>\n",
       "      <th>Manufacturer</th>\n",
       "      <th>Model</th>\n",
       "      <th>Sales in thousands</th>\n",
       "      <th>4-year resale value</th>\n",
       "      <th>Vehicle type</th>\n",
       "      <th>Price in thousands</th>\n",
       "      <th>Engine size</th>\n",
       "      <th>Horsepower</th>\n",
       "      <th>Wheelbase</th>\n",
       "      <th>Width</th>\n",
       "      <th>Length</th>\n",
       "      <th>Curb weight</th>\n",
       "      <th>Fuel capacity</th>\n",
       "      <th>Fuel efficiency</th>\n",
       "      <th>Latest Launch</th>\n",
       "    </tr>\n",
       "  </thead>\n",
       "  <tbody>\n",
       "    <tr>\n",
       "      <th>0</th>\n",
       "      <td>Acura</td>\n",
       "      <td>Integra</td>\n",
       "      <td>16.919</td>\n",
       "      <td>16.36</td>\n",
       "      <td>Passenger</td>\n",
       "      <td>21.5</td>\n",
       "      <td>1.8</td>\n",
       "      <td>140</td>\n",
       "      <td>101.2</td>\n",
       "      <td>67.3</td>\n",
       "      <td>172.4</td>\n",
       "      <td>2.639</td>\n",
       "      <td>13.2</td>\n",
       "      <td>28</td>\n",
       "      <td>2-Feb-14</td>\n",
       "    </tr>\n",
       "    <tr>\n",
       "      <th>1</th>\n",
       "      <td>Acura</td>\n",
       "      <td>TL</td>\n",
       "      <td>39.384</td>\n",
       "      <td>19.875</td>\n",
       "      <td>Passenger</td>\n",
       "      <td>28.4</td>\n",
       "      <td>3.2</td>\n",
       "      <td>225</td>\n",
       "      <td>108.1</td>\n",
       "      <td>70.3</td>\n",
       "      <td>192.9</td>\n",
       "      <td>3.517</td>\n",
       "      <td>17.2</td>\n",
       "      <td>25</td>\n",
       "      <td>6-Mar-15</td>\n",
       "    </tr>\n",
       "    <tr>\n",
       "      <th>2</th>\n",
       "      <td>Acura</td>\n",
       "      <td>CL</td>\n",
       "      <td>14.114</td>\n",
       "      <td>18.225</td>\n",
       "      <td>Passenger</td>\n",
       "      <td>.</td>\n",
       "      <td>3.2</td>\n",
       "      <td>225</td>\n",
       "      <td>106.9</td>\n",
       "      <td>70.6</td>\n",
       "      <td>192</td>\n",
       "      <td>3.47</td>\n",
       "      <td>17.2</td>\n",
       "      <td>26</td>\n",
       "      <td>1-Apr-14</td>\n",
       "    </tr>\n",
       "    <tr>\n",
       "      <th>3</th>\n",
       "      <td>Acura</td>\n",
       "      <td>RL</td>\n",
       "      <td>8.588</td>\n",
       "      <td>29.725</td>\n",
       "      <td>Passenger</td>\n",
       "      <td>42</td>\n",
       "      <td>3.5</td>\n",
       "      <td>210</td>\n",
       "      <td>114.6</td>\n",
       "      <td>71.4</td>\n",
       "      <td>196.6</td>\n",
       "      <td>3.85</td>\n",
       "      <td>18</td>\n",
       "      <td>22</td>\n",
       "      <td>3-Oct-15</td>\n",
       "    </tr>\n",
       "    <tr>\n",
       "      <th>4</th>\n",
       "      <td>Audi</td>\n",
       "      <td>A4</td>\n",
       "      <td>20.397</td>\n",
       "      <td>22.255</td>\n",
       "      <td>Passenger</td>\n",
       "      <td>23.99</td>\n",
       "      <td>1.8</td>\n",
       "      <td>150</td>\n",
       "      <td>102.6</td>\n",
       "      <td>68.2</td>\n",
       "      <td>178</td>\n",
       "      <td>2.998</td>\n",
       "      <td>16.4</td>\n",
       "      <td>27</td>\n",
       "      <td>10-Aug-15</td>\n",
       "    </tr>\n",
       "    <tr>\n",
       "      <th>...</th>\n",
       "      <td>...</td>\n",
       "      <td>...</td>\n",
       "      <td>...</td>\n",
       "      <td>...</td>\n",
       "      <td>...</td>\n",
       "      <td>...</td>\n",
       "      <td>...</td>\n",
       "      <td>...</td>\n",
       "      <td>...</td>\n",
       "      <td>...</td>\n",
       "      <td>...</td>\n",
       "      <td>...</td>\n",
       "      <td>...</td>\n",
       "      <td>...</td>\n",
       "      <td>...</td>\n",
       "    </tr>\n",
       "    <tr>\n",
       "      <th>152</th>\n",
       "      <td>Volvo</td>\n",
       "      <td>V40</td>\n",
       "      <td>3.545</td>\n",
       "      <td>.</td>\n",
       "      <td>Passenger</td>\n",
       "      <td>24.4</td>\n",
       "      <td>1.9</td>\n",
       "      <td>160</td>\n",
       "      <td>100.5</td>\n",
       "      <td>67.6</td>\n",
       "      <td>176.6</td>\n",
       "      <td>3.042</td>\n",
       "      <td>15.8</td>\n",
       "      <td>25</td>\n",
       "      <td>21-Sep-15</td>\n",
       "    </tr>\n",
       "    <tr>\n",
       "      <th>153</th>\n",
       "      <td>Volvo</td>\n",
       "      <td>S70</td>\n",
       "      <td>15.245</td>\n",
       "      <td>.</td>\n",
       "      <td>Passenger</td>\n",
       "      <td>27.5</td>\n",
       "      <td>2.4</td>\n",
       "      <td>168</td>\n",
       "      <td>104.9</td>\n",
       "      <td>69.3</td>\n",
       "      <td>185.9</td>\n",
       "      <td>3.208</td>\n",
       "      <td>17.9</td>\n",
       "      <td>25</td>\n",
       "      <td>24-Nov-14</td>\n",
       "    </tr>\n",
       "    <tr>\n",
       "      <th>154</th>\n",
       "      <td>Volvo</td>\n",
       "      <td>V70</td>\n",
       "      <td>17.531</td>\n",
       "      <td>.</td>\n",
       "      <td>Passenger</td>\n",
       "      <td>28.8</td>\n",
       "      <td>2.4</td>\n",
       "      <td>168</td>\n",
       "      <td>104.9</td>\n",
       "      <td>69.3</td>\n",
       "      <td>186.2</td>\n",
       "      <td>3.259</td>\n",
       "      <td>17.9</td>\n",
       "      <td>25</td>\n",
       "      <td>25-Jun-15</td>\n",
       "    </tr>\n",
       "    <tr>\n",
       "      <th>155</th>\n",
       "      <td>Volvo</td>\n",
       "      <td>C70</td>\n",
       "      <td>3.493</td>\n",
       "      <td>.</td>\n",
       "      <td>Passenger</td>\n",
       "      <td>45.5</td>\n",
       "      <td>2.3</td>\n",
       "      <td>236</td>\n",
       "      <td>104.9</td>\n",
       "      <td>71.5</td>\n",
       "      <td>185.7</td>\n",
       "      <td>3.601</td>\n",
       "      <td>18.5</td>\n",
       "      <td>23</td>\n",
       "      <td>26-Apr-15</td>\n",
       "    </tr>\n",
       "    <tr>\n",
       "      <th>156</th>\n",
       "      <td>Volvo</td>\n",
       "      <td>S80</td>\n",
       "      <td>18.969</td>\n",
       "      <td>.</td>\n",
       "      <td>Passenger</td>\n",
       "      <td>36</td>\n",
       "      <td>2.9</td>\n",
       "      <td>201</td>\n",
       "      <td>109.9</td>\n",
       "      <td>72.1</td>\n",
       "      <td>189.8</td>\n",
       "      <td>3.6</td>\n",
       "      <td>21.1</td>\n",
       "      <td>24</td>\n",
       "      <td>14-Nov-15</td>\n",
       "    </tr>\n",
       "  </tbody>\n",
       "</table>\n",
       "<p>157 rows × 15 columns</p>\n",
       "</div>"
      ],
      "text/plain": [
       "      Manufacturer              Model  Sales in thousands 4-year resale value  \\\n",
       "0    Acura          Integra                        16.919               16.36   \n",
       "1    Acura          TL                             39.384              19.875   \n",
       "2    Acura          CL                             14.114              18.225   \n",
       "3    Acura          RL                              8.588              29.725   \n",
       "4    Audi           A4                             20.397              22.255   \n",
       "..             ...                ...                 ...                 ...   \n",
       "152  Volvo          V40                             3.545                   .   \n",
       "153  Volvo          S70                            15.245                   .   \n",
       "154  Volvo          V70                            17.531                   .   \n",
       "155  Volvo          C70                             3.493                   .   \n",
       "156  Volvo          S80                            18.969                   .   \n",
       "\n",
       "    Vehicle type Price in thousands Engine size Horsepower Wheelbase Width  \\\n",
       "0      Passenger               21.5         1.8        140     101.2  67.3   \n",
       "1      Passenger               28.4         3.2        225     108.1  70.3   \n",
       "2      Passenger                  .         3.2        225     106.9  70.6   \n",
       "3      Passenger                 42         3.5        210     114.6  71.4   \n",
       "4      Passenger              23.99         1.8        150     102.6  68.2   \n",
       "..           ...                ...         ...        ...       ...   ...   \n",
       "152    Passenger               24.4         1.9        160     100.5  67.6   \n",
       "153    Passenger               27.5         2.4        168     104.9  69.3   \n",
       "154    Passenger               28.8         2.4        168     104.9  69.3   \n",
       "155    Passenger               45.5         2.3        236     104.9  71.5   \n",
       "156    Passenger                 36         2.9        201     109.9  72.1   \n",
       "\n",
       "    Length Curb weight Fuel capacity Fuel efficiency Latest Launch  \n",
       "0    172.4       2.639          13.2              28      2-Feb-14  \n",
       "1    192.9       3.517          17.2              25      6-Mar-15  \n",
       "2      192        3.47          17.2              26      1-Apr-14  \n",
       "3    196.6        3.85            18              22      3-Oct-15  \n",
       "4      178       2.998          16.4              27     10-Aug-15  \n",
       "..     ...         ...           ...             ...           ...  \n",
       "152  176.6       3.042          15.8              25     21-Sep-15  \n",
       "153  185.9       3.208          17.9              25     24-Nov-14  \n",
       "154  186.2       3.259          17.9              25     25-Jun-15  \n",
       "155  185.7       3.601          18.5              23     26-Apr-15  \n",
       "156  189.8         3.6          21.1              24     14-Nov-15  \n",
       "\n",
       "[157 rows x 15 columns]"
      ]
     },
     "execution_count": 8,
     "metadata": {},
     "output_type": "execute_result"
    }
   ],
   "source": [
    "car_name=df[df['Manufacturer']!='Mitsubishi']\n",
    "car_name"
   ]
  },
  {
   "cell_type": "code",
   "execution_count": 9,
   "id": "c429d1f0-8c9a-4ba9-a114-ecbd2fe930ce",
   "metadata": {},
   "outputs": [
    {
     "data": {
      "text/plain": [
       "36"
      ]
     },
     "execution_count": 9,
     "metadata": {},
     "output_type": "execute_result"
    }
   ],
   "source": [
    "df['4-year resale value']=pd.to_numeric(df['4-year resale value'],errors='coerce')\n",
    "df['4-year resale value'].isnull().sum()"
   ]
  },
  {
   "cell_type": "code",
   "execution_count": 10,
   "id": "b91047b8-d03e-47fb-a920-577de4cbffcc",
   "metadata": {},
   "outputs": [
    {
     "data": {
      "text/plain": [
       "dtype('float64')"
      ]
     },
     "execution_count": 10,
     "metadata": {},
     "output_type": "execute_result"
    }
   ],
   "source": [
    "df['4-year resale value'].dtypes"
   ]
  },
  {
   "cell_type": "code",
   "execution_count": 11,
   "id": "55d449e5-7701-4b0f-82c9-dc9a87c70cd3",
   "metadata": {},
   "outputs": [
    {
     "data": {
      "text/plain": [
       "Manufacturer            object\n",
       "Model                   object\n",
       "Sales in thousands     float64\n",
       "4-year resale value    float64\n",
       "Vehicle type            object\n",
       "Price in thousands      object\n",
       "Engine size             object\n",
       "Horsepower              object\n",
       "Wheelbase               object\n",
       "Width                   object\n",
       "Length                  object\n",
       "Curb weight             object\n",
       "Fuel capacity           object\n",
       "Fuel efficiency         object\n",
       "Latest Launch           object\n",
       "dtype: object"
      ]
     },
     "execution_count": 11,
     "metadata": {},
     "output_type": "execute_result"
    }
   ],
   "source": [
    "df.dtypes"
   ]
  },
  {
   "cell_type": "code",
   "execution_count": 12,
   "id": "a31fdba8-60e7-43f3-9cb9-2f44905c2512",
   "metadata": {},
   "outputs": [
    {
     "data": {
      "text/plain": [
       "18.07297520661157"
      ]
     },
     "execution_count": 12,
     "metadata": {},
     "output_type": "execute_result"
    }
   ],
   "source": [
    "df['4-year resale value'].mean()"
   ]
  },
  {
   "cell_type": "code",
   "execution_count": 13,
   "id": "db769e82-7c40-4c33-9dab-9abd8dfa7d4c",
   "metadata": {},
   "outputs": [
    {
     "data": {
      "text/plain": [
       "14.18"
      ]
     },
     "execution_count": 13,
     "metadata": {},
     "output_type": "execute_result"
    }
   ],
   "source": [
    "df['4-year resale value'].median()"
   ]
  },
  {
   "cell_type": "code",
   "execution_count": 14,
   "id": "7d30f18c-7aa9-4be9-8ad4-e05d59739b49",
   "metadata": {},
   "outputs": [
    {
     "data": {
      "text/html": [
       "<div>\n",
       "<style scoped>\n",
       "    .dataframe tbody tr th:only-of-type {\n",
       "        vertical-align: middle;\n",
       "    }\n",
       "\n",
       "    .dataframe tbody tr th {\n",
       "        vertical-align: top;\n",
       "    }\n",
       "\n",
       "    .dataframe thead th {\n",
       "        text-align: right;\n",
       "    }\n",
       "</style>\n",
       "<table border=\"1\" class=\"dataframe\">\n",
       "  <thead>\n",
       "    <tr style=\"text-align: right;\">\n",
       "      <th></th>\n",
       "      <th>Sales in thousands</th>\n",
       "      <th>4-year resale value</th>\n",
       "    </tr>\n",
       "  </thead>\n",
       "  <tbody>\n",
       "    <tr>\n",
       "      <th>count</th>\n",
       "      <td>157.000000</td>\n",
       "      <td>121.000000</td>\n",
       "    </tr>\n",
       "    <tr>\n",
       "      <th>mean</th>\n",
       "      <td>52.998076</td>\n",
       "      <td>18.072975</td>\n",
       "    </tr>\n",
       "    <tr>\n",
       "      <th>std</th>\n",
       "      <td>68.029422</td>\n",
       "      <td>11.453384</td>\n",
       "    </tr>\n",
       "    <tr>\n",
       "      <th>min</th>\n",
       "      <td>0.110000</td>\n",
       "      <td>5.160000</td>\n",
       "    </tr>\n",
       "    <tr>\n",
       "      <th>25%</th>\n",
       "      <td>14.114000</td>\n",
       "      <td>11.260000</td>\n",
       "    </tr>\n",
       "    <tr>\n",
       "      <th>50%</th>\n",
       "      <td>29.450000</td>\n",
       "      <td>14.180000</td>\n",
       "    </tr>\n",
       "    <tr>\n",
       "      <th>75%</th>\n",
       "      <td>67.956000</td>\n",
       "      <td>19.875000</td>\n",
       "    </tr>\n",
       "    <tr>\n",
       "      <th>max</th>\n",
       "      <td>540.561000</td>\n",
       "      <td>67.550000</td>\n",
       "    </tr>\n",
       "  </tbody>\n",
       "</table>\n",
       "</div>"
      ],
      "text/plain": [
       "       Sales in thousands  4-year resale value\n",
       "count          157.000000           121.000000\n",
       "mean            52.998076            18.072975\n",
       "std             68.029422            11.453384\n",
       "min              0.110000             5.160000\n",
       "25%             14.114000            11.260000\n",
       "50%             29.450000            14.180000\n",
       "75%             67.956000            19.875000\n",
       "max            540.561000            67.550000"
      ]
     },
     "execution_count": 14,
     "metadata": {},
     "output_type": "execute_result"
    }
   ],
   "source": [
    "df.describe()"
   ]
  },
  {
   "cell_type": "code",
   "execution_count": 15,
   "id": "76dbc64e-82c7-48e2-b373-336bc8b68c09",
   "metadata": {},
   "outputs": [
    {
     "data": {
      "text/plain": [
       "11.453384099225005"
      ]
     },
     "execution_count": 15,
     "metadata": {},
     "output_type": "execute_result"
    }
   ],
   "source": [
    "df['4-year resale value'].std()"
   ]
  },
  {
   "cell_type": "code",
   "execution_count": 16,
   "id": "8708faf9-b05e-432b-afac-dcf60ff4fbaf",
   "metadata": {},
   "outputs": [
    {
     "data": {
      "text/plain": [
       "Vehicle type\n",
       "Car          16.297833\n",
       "Passenger    18.658187\n",
       "Name: 4-year resale value, dtype: float64"
      ]
     },
     "execution_count": 16,
     "metadata": {},
     "output_type": "execute_result"
    }
   ],
   "source": [
    "average_sales=df.groupby('Vehicle type')['4-year resale value'].mean()\n",
    "average_sales"
   ]
  },
  {
   "cell_type": "code",
   "execution_count": 17,
   "id": "4a2b5614-6446-4d28-b71a-180aab523adc",
   "metadata": {},
   "outputs": [
    {
     "data": {
      "text/plain": [
       "dtype('O')"
      ]
     },
     "execution_count": 17,
     "metadata": {},
     "output_type": "execute_result"
    }
   ],
   "source": [
    "df['Horsepower'].dtype"
   ]
  },
  {
   "cell_type": "code",
   "execution_count": 18,
   "id": "c0be3d4e-ea06-4178-9a6b-06d0d3766141",
   "metadata": {},
   "outputs": [
    {
     "data": {
      "text/plain": [
       "1"
      ]
     },
     "execution_count": 18,
     "metadata": {},
     "output_type": "execute_result"
    }
   ],
   "source": [
    "df['Horsepower']=pd.to_numeric(df['Horsepower'],errors='coerce')\n",
    "df['Horsepower'].isnull().sum()"
   ]
  },
  {
   "cell_type": "code",
   "execution_count": 19,
   "id": "cfe8a282-7a9b-4636-a06d-957cc1616dfe",
   "metadata": {},
   "outputs": [
    {
     "data": {
      "text/plain": [
       "dtype('float64')"
      ]
     },
     "execution_count": 19,
     "metadata": {},
     "output_type": "execute_result"
    }
   ],
   "source": [
    "df['Horsepower'].dtypes"
   ]
  },
  {
   "cell_type": "code",
   "execution_count": 20,
   "id": "8a1d7880-5491-4523-9d3c-ea113e47e999",
   "metadata": {},
   "outputs": [
    {
     "data": {
      "text/plain": [
       "Manufacturer\n",
       "Acura            225.0\n",
       "Audi             310.0\n",
       "BMW              193.0\n",
       "Buick            240.0\n",
       "Cadillac         275.0\n",
       "Chevrolet        345.0\n",
       "Chrysler         253.0\n",
       "Dodge            450.0\n",
       "Ford             240.0\n",
       "Honda            210.0\n",
       "Hyundai          148.0\n",
       "Infiniti         227.0\n",
       "Jaguar           240.0\n",
       "Jeep             195.0\n",
       "Lexus            300.0\n",
       "Lincoln          300.0\n",
       "Mercedes-Benz    302.0\n",
       "Mercury          210.0\n",
       "Mitsubishi       210.0\n",
       "Nissan           222.0\n",
       "Oldsmobile       250.0\n",
       "Plymouth         253.0\n",
       "Pontiac          205.0\n",
       "Porsche          300.0\n",
       "Saab             185.0\n",
       "Saturn           137.0\n",
       "Subaru           165.0\n",
       "Toyota           230.0\n",
       "Volkswagen       150.0\n",
       "Volvo            236.0\n",
       "Name: Horsepower, dtype: float64"
      ]
     },
     "execution_count": 20,
     "metadata": {},
     "output_type": "execute_result"
    }
   ],
   "source": [
    "df.groupby('Manufacturer')['Horsepower'].max()"
   ]
  },
  {
   "cell_type": "code",
   "execution_count": 21,
   "id": "f619f6d0-f210-4a7c-a92e-cf883ed66538",
   "metadata": {},
   "outputs": [
    {
     "data": {
      "text/plain": [
       "dtype('O')"
      ]
     },
     "execution_count": 21,
     "metadata": {},
     "output_type": "execute_result"
    }
   ],
   "source": [
    "df['Fuel efficiency'].dtypes"
   ]
  },
  {
   "cell_type": "code",
   "execution_count": 22,
   "id": "4ad81b79-d82f-41a2-9007-5871ba0dd1b3",
   "metadata": {},
   "outputs": [
    {
     "data": {
      "text/plain": [
       "3"
      ]
     },
     "execution_count": 22,
     "metadata": {},
     "output_type": "execute_result"
    }
   ],
   "source": [
    "df['Fuel efficiency']=pd.to_numeric(df['Fuel efficiency'],errors='coerce')\n",
    "df['Fuel efficiency'].isnull().sum()"
   ]
  },
  {
   "cell_type": "code",
   "execution_count": 23,
   "id": "24c188e8-87d5-46f4-b884-c7a6bbdf918e",
   "metadata": {},
   "outputs": [
    {
     "data": {
      "text/plain": [
       "Manufacturer   Vehicle type\n",
       "Acura          Passenger       25.250000\n",
       "Audi           Passenger       23.333333\n",
       "BMW            Passenger       25.000000\n",
       "Buick          Passenger       24.250000\n",
       "Cadillac       Car             15.000000\n",
       "               Passenger       22.000000\n",
       "Chevrolet      Passenger       28.444444\n",
       "Chrysler       Car                   NaN\n",
       "               Passenger       24.500000\n",
       "Dodge          Car             18.000000\n",
       "               Passenger       23.250000\n",
       "Ford           Car             19.400000\n",
       "               Passenger       25.666667\n",
       "Honda          Car             22.000000\n",
       "               Passenger       29.500000\n",
       "Hyundai        Passenger       27.666667\n",
       "Infiniti       Passenger       25.000000\n",
       "Jaguar         Passenger       21.000000\n",
       "Jeep           Car             18.666667\n",
       "Lexus          Car             18.000000\n",
       "               Passenger       22.250000\n",
       "Lincoln        Car             15.000000\n",
       "               Passenger       21.500000\n",
       "Mercedes-Benz  Car             20.000000\n",
       "               Passenger       23.875000\n",
       "Mercury        Car             19.500000\n",
       "               Passenger       25.750000\n",
       "Mitsubishi     Car             19.000000\n",
       "               Passenger       24.400000\n",
       "Nissan         Car             19.000000\n",
       "               Passenger       26.666667\n",
       "Oldsmobile     Car             20.500000\n",
       "               Passenger       24.666667\n",
       "Plymouth       Car             24.000000\n",
       "               Passenger       25.666667\n",
       "Pontiac        Car             23.000000\n",
       "               Passenger       25.200000\n",
       "Porsche        Passenger       22.000000\n",
       "Saab           Passenger       23.000000\n",
       "Saturn         Passenger       30.400000\n",
       "Subaru         Car             24.000000\n",
       "               Passenger       25.000000\n",
       "Toyota         Car             22.000000\n",
       "               Passenger       29.250000\n",
       "Volkswagen     Passenger       26.166667\n",
       "Volvo          Passenger       24.500000\n",
       "Name: Fuel efficiency, dtype: float64"
      ]
     },
     "execution_count": 23,
     "metadata": {},
     "output_type": "execute_result"
    }
   ],
   "source": [
    "df.groupby(['Manufacturer','Vehicle type'])['Fuel efficiency'].mean()"
   ]
  },
  {
   "cell_type": "code",
   "execution_count": 26,
   "id": "b26daff8-46dc-4697-bfff-369cba2f40c2",
   "metadata": {},
   "outputs": [
    {
     "data": {
      "text/plain": [
       "Manufacturer\n",
       "Acura             4\n",
       "Audi              3\n",
       "BMW               3\n",
       "Buick             4\n",
       "Cadillac          5\n",
       "Chevrolet         9\n",
       "Chrysler          7\n",
       "Dodge            11\n",
       "Ford             11\n",
       "Honda             5\n",
       "Hyundai           3\n",
       "Infiniti          1\n",
       "Jaguar            1\n",
       "Jeep              3\n",
       "Lexus             6\n",
       "Lincoln           3\n",
       "Mercedes-Benz     9\n",
       "Mercury           6\n",
       "Mitsubishi        7\n",
       "Nissan            7\n",
       "Oldsmobile        6\n",
       "Plymouth          4\n",
       "Pontiac           6\n",
       "Porsche           3\n",
       "Saab              2\n",
       "Saturn            5\n",
       "Subaru            2\n",
       "Toyota            9\n",
       "Volkswagen        6\n",
       "Volvo             6\n",
       "Name: Model, dtype: int64"
      ]
     },
     "execution_count": 26,
     "metadata": {},
     "output_type": "execute_result"
    }
   ],
   "source": [
    "df.groupby(['Manufacturer'])['Model'].count()"
   ]
  },
  {
   "cell_type": "code",
   "execution_count": 27,
   "id": "3c356085-6c15-41a4-a5b6-1b0664841534",
   "metadata": {},
   "outputs": [
    {
     "data": {
      "text/plain": [
       "dtype('O')"
      ]
     },
     "execution_count": 27,
     "metadata": {},
     "output_type": "execute_result"
    }
   ],
   "source": [
    "df['Price in thousands'].dtypes"
   ]
  },
  {
   "cell_type": "code",
   "execution_count": 28,
   "id": "840ab696-dc54-44d0-837f-d50848b28c7e",
   "metadata": {},
   "outputs": [
    {
     "data": {
      "text/plain": [
       "2"
      ]
     },
     "execution_count": 28,
     "metadata": {},
     "output_type": "execute_result"
    }
   ],
   "source": [
    "df['Price in thousands']=pd.to_numeric(df['Price in thousands'],errors='coerce')\n",
    "df['Price in thousands'].isnull().sum()"
   ]
  },
  {
   "cell_type": "code",
   "execution_count": 29,
   "id": "61606fd3-c72a-48c6-b07c-071bc565e649",
   "metadata": {},
   "outputs": [
    {
     "data": {
      "text/plain": [
       "dtype('float64')"
      ]
     },
     "execution_count": 29,
     "metadata": {},
     "output_type": "execute_result"
    }
   ],
   "source": [
    "df['Price in thousands'].dtypes"
   ]
  },
  {
   "cell_type": "code",
   "execution_count": 30,
   "id": "27225878-9265-48fd-a1f1-360b899778c7",
   "metadata": {},
   "outputs": [
    {
     "data": {
      "text/plain": [
       "Manufacturer\n",
       "Acura            30.633333\n",
       "Audi             39.980000\n",
       "BMW              33.096667\n",
       "Buick            26.781250\n",
       "Cadillac         40.254000\n",
       "Chevrolet        20.022778\n",
       "Chrysler         23.430833\n",
       "Dodge            24.213636\n",
       "Ford             21.047273\n",
       "Honda            20.277000\n",
       "Hyundai          12.165667\n",
       "Infiniti         29.465000\n",
       "Jaguar           42.800000\n",
       "Jeep             20.991667\n",
       "Lexus            44.055000\n",
       "Lincoln          41.690000\n",
       "Mercedes-Benz    52.916667\n",
       "Mercury          20.748333\n",
       "Mitsubishi       22.167429\n",
       "Nissan           22.360714\n",
       "Oldsmobile       25.622833\n",
       "Plymouth         22.642500\n",
       "Pontiac          22.949167\n",
       "Porsche          62.473333\n",
       "Saab             29.610000\n",
       "Saturn           14.271000\n",
       "Subaru           21.395000\n",
       "Toyota           21.982889\n",
       "Volkswagen       17.698333\n",
       "Volvo            30.933333\n",
       "Name: Price in thousands, dtype: float64"
      ]
     },
     "execution_count": 30,
     "metadata": {},
     "output_type": "execute_result"
    }
   ],
   "source": [
    "df.groupby(['Manufacturer'])['Price in thousands'].mean()"
   ]
  },
  {
   "cell_type": "code",
   "execution_count": 31,
   "id": "f08bb22c-f95b-433a-99e0-ddbb8c2c0ef9",
   "metadata": {},
   "outputs": [
    {
     "data": {
      "text/plain": [
       "1"
      ]
     },
     "execution_count": 31,
     "metadata": {},
     "output_type": "execute_result"
    }
   ],
   "source": [
    "df['Fuel capacity']=pd.to_numeric(df['Fuel capacity'],errors='coerce')\n",
    "df['Fuel capacity'].isnull().sum()"
   ]
  },
  {
   "cell_type": "code",
   "execution_count": 35,
   "id": "f15904be-9067-406f-bfcc-173a08e449f0",
   "metadata": {},
   "outputs": [
    {
     "data": {
      "text/html": [
       "<div>\n",
       "<style scoped>\n",
       "    .dataframe tbody tr th:only-of-type {\n",
       "        vertical-align: middle;\n",
       "    }\n",
       "\n",
       "    .dataframe tbody tr th {\n",
       "        vertical-align: top;\n",
       "    }\n",
       "\n",
       "    .dataframe thead th {\n",
       "        text-align: right;\n",
       "    }\n",
       "</style>\n",
       "<table border=\"1\" class=\"dataframe\">\n",
       "  <thead>\n",
       "    <tr style=\"text-align: right;\">\n",
       "      <th></th>\n",
       "      <th>Sales in thousands</th>\n",
       "      <th>4-year resale value</th>\n",
       "      <th>Price in thousands</th>\n",
       "      <th>Horsepower</th>\n",
       "      <th>Fuel capacity</th>\n",
       "      <th>Fuel efficiency</th>\n",
       "    </tr>\n",
       "  </thead>\n",
       "  <tbody>\n",
       "    <tr>\n",
       "      <th>count</th>\n",
       "      <td>157.000000</td>\n",
       "      <td>121.000000</td>\n",
       "      <td>155.000000</td>\n",
       "      <td>156.000000</td>\n",
       "      <td>156.000000</td>\n",
       "      <td>154.000000</td>\n",
       "    </tr>\n",
       "    <tr>\n",
       "      <th>mean</th>\n",
       "      <td>52.998076</td>\n",
       "      <td>18.072975</td>\n",
       "      <td>27.390755</td>\n",
       "      <td>185.948718</td>\n",
       "      <td>17.951923</td>\n",
       "      <td>23.844156</td>\n",
       "    </tr>\n",
       "    <tr>\n",
       "      <th>std</th>\n",
       "      <td>68.029422</td>\n",
       "      <td>11.453384</td>\n",
       "      <td>14.351653</td>\n",
       "      <td>56.700321</td>\n",
       "      <td>3.887921</td>\n",
       "      <td>4.282706</td>\n",
       "    </tr>\n",
       "    <tr>\n",
       "      <th>min</th>\n",
       "      <td>0.110000</td>\n",
       "      <td>5.160000</td>\n",
       "      <td>9.235000</td>\n",
       "      <td>55.000000</td>\n",
       "      <td>10.300000</td>\n",
       "      <td>15.000000</td>\n",
       "    </tr>\n",
       "    <tr>\n",
       "      <th>25%</th>\n",
       "      <td>14.114000</td>\n",
       "      <td>11.260000</td>\n",
       "      <td>18.017500</td>\n",
       "      <td>149.500000</td>\n",
       "      <td>15.800000</td>\n",
       "      <td>21.000000</td>\n",
       "    </tr>\n",
       "    <tr>\n",
       "      <th>50%</th>\n",
       "      <td>29.450000</td>\n",
       "      <td>14.180000</td>\n",
       "      <td>22.799000</td>\n",
       "      <td>177.500000</td>\n",
       "      <td>17.200000</td>\n",
       "      <td>24.000000</td>\n",
       "    </tr>\n",
       "    <tr>\n",
       "      <th>75%</th>\n",
       "      <td>67.956000</td>\n",
       "      <td>19.875000</td>\n",
       "      <td>31.947500</td>\n",
       "      <td>215.000000</td>\n",
       "      <td>19.575000</td>\n",
       "      <td>26.000000</td>\n",
       "    </tr>\n",
       "    <tr>\n",
       "      <th>max</th>\n",
       "      <td>540.561000</td>\n",
       "      <td>67.550000</td>\n",
       "      <td>85.500000</td>\n",
       "      <td>450.000000</td>\n",
       "      <td>32.000000</td>\n",
       "      <td>45.000000</td>\n",
       "    </tr>\n",
       "  </tbody>\n",
       "</table>\n",
       "</div>"
      ],
      "text/plain": [
       "       Sales in thousands  4-year resale value  Price in thousands  \\\n",
       "count          157.000000           121.000000          155.000000   \n",
       "mean            52.998076            18.072975           27.390755   \n",
       "std             68.029422            11.453384           14.351653   \n",
       "min              0.110000             5.160000            9.235000   \n",
       "25%             14.114000            11.260000           18.017500   \n",
       "50%             29.450000            14.180000           22.799000   \n",
       "75%             67.956000            19.875000           31.947500   \n",
       "max            540.561000            67.550000           85.500000   \n",
       "\n",
       "       Horsepower  Fuel capacity  Fuel efficiency  \n",
       "count  156.000000     156.000000       154.000000  \n",
       "mean   185.948718      17.951923        23.844156  \n",
       "std     56.700321       3.887921         4.282706  \n",
       "min     55.000000      10.300000        15.000000  \n",
       "25%    149.500000      15.800000        21.000000  \n",
       "50%    177.500000      17.200000        24.000000  \n",
       "75%    215.000000      19.575000        26.000000  \n",
       "max    450.000000      32.000000        45.000000  "
      ]
     },
     "execution_count": 35,
     "metadata": {},
     "output_type": "execute_result"
    }
   ],
   "source": [
    "df.describe()"
   ]
  },
  {
   "cell_type": "code",
   "execution_count": 36,
   "id": "27932187-4d98-4acb-8695-d94310176a63",
   "metadata": {},
   "outputs": [
    {
     "data": {
      "text/plain": [
       "Vehicle type\n",
       "Car           875.8\n",
       "Passenger    1924.7\n",
       "Name: Fuel capacity, dtype: float64"
      ]
     },
     "execution_count": 36,
     "metadata": {},
     "output_type": "execute_result"
    }
   ],
   "source": [
    "df.groupby(['Vehicle type'])['Fuel capacity'].sum()"
   ]
  },
  {
   "cell_type": "markdown",
   "id": "f2ef601e-6e5f-4c8b-916b-997b354f0b76",
   "metadata": {},
   "source": [
    "Highest Resale value car for each manufacturer"
   ]
  },
  {
   "cell_type": "markdown",
   "id": "573cf84d-5907-4a3b-af3f-f3f03ff5c602",
   "metadata": {},
   "source": [
    "idxmax()-> it returns row id or column id corresponding to the max value"
   ]
  },
  {
   "cell_type": "code",
   "execution_count": 39,
   "id": "1de10405-4062-4244-9cf5-189682a41030",
   "metadata": {},
   "outputs": [
    {
     "data": {
      "text/plain": [
       "Manufacturer\n",
       "Acura              3.0\n",
       "Audi               6.0\n",
       "BMW                9.0\n",
       "Buick             12.0\n",
       "Cadillac          15.0\n",
       "Chevrolet         24.0\n",
       "Chrysler          33.0\n",
       "Dodge             39.0\n",
       "Ford              54.0\n",
       "Honda             61.0\n",
       "Hyundai           64.0\n",
       "Infiniti          65.0\n",
       "Jaguar             NaN\n",
       "Jeep              69.0\n",
       "Lexus             73.0\n",
       "Lincoln           77.0\n",
       "Mercedes-Benz     95.0\n",
       "Mercury           90.0\n",
       "Mitsubishi        83.0\n",
       "Nissan           105.0\n",
       "Oldsmobile       112.0\n",
       "Plymouth         116.0\n",
       "Pontiac          120.0\n",
       "Porsche          126.0\n",
       "Saab               NaN\n",
       "Saturn           131.0\n",
       "Subaru             NaN\n",
       "Toyota           144.0\n",
       "Volkswagen       147.0\n",
       "Volvo              NaN\n",
       "Name: 4-year resale value, dtype: float64"
      ]
     },
     "execution_count": 39,
     "metadata": {},
     "output_type": "execute_result"
    }
   ],
   "source": [
    "max_resale=df.groupby(['Manufacturer'])['4-year resale value'].idxmax()\n",
    "max_resale"
   ]
  },
  {
   "cell_type": "code",
   "execution_count": 47,
   "id": "6a503996-a749-4ec8-b302-dac2c5775053",
   "metadata": {},
   "outputs": [
    {
     "data": {
      "text/plain": [
       "36"
      ]
     },
     "execution_count": 47,
     "metadata": {},
     "output_type": "execute_result"
    }
   ],
   "source": [
    "df['4-year resale value'].isnull().sum()"
   ]
  },
  {
   "cell_type": "code",
   "execution_count": 49,
   "id": "c4b8b26c-da0a-48ae-93b3-29baacad9f2b",
   "metadata": {},
   "outputs": [],
   "source": [
    "df['4-year resale value'].fillna(0, inplace=True) "
   ]
  },
  {
   "cell_type": "code",
   "execution_count": 53,
   "id": "0236b76c-9a05-4ff2-a066-0caa2813d482",
   "metadata": {},
   "outputs": [],
   "source": [
    "max_resale.fillna(0, inplace=True) "
   ]
  },
  {
   "cell_type": "code",
   "execution_count": 54,
   "id": "358df850-eca5-4e4a-a0f2-be8519510dcd",
   "metadata": {},
   "outputs": [
    {
     "data": {
      "text/html": [
       "<div>\n",
       "<style scoped>\n",
       "    .dataframe tbody tr th:only-of-type {\n",
       "        vertical-align: middle;\n",
       "    }\n",
       "\n",
       "    .dataframe tbody tr th {\n",
       "        vertical-align: top;\n",
       "    }\n",
       "\n",
       "    .dataframe thead th {\n",
       "        text-align: right;\n",
       "    }\n",
       "</style>\n",
       "<table border=\"1\" class=\"dataframe\">\n",
       "  <thead>\n",
       "    <tr style=\"text-align: right;\">\n",
       "      <th></th>\n",
       "      <th>Manufacturer</th>\n",
       "      <th>Model</th>\n",
       "      <th>4-year resale value</th>\n",
       "    </tr>\n",
       "  </thead>\n",
       "  <tbody>\n",
       "    <tr>\n",
       "      <th>3</th>\n",
       "      <td>Acura</td>\n",
       "      <td>RL</td>\n",
       "      <td>29.725</td>\n",
       "    </tr>\n",
       "    <tr>\n",
       "      <th>6</th>\n",
       "      <td>Audi</td>\n",
       "      <td>A8</td>\n",
       "      <td>39.000</td>\n",
       "    </tr>\n",
       "    <tr>\n",
       "      <th>9</th>\n",
       "      <td>BMW</td>\n",
       "      <td>528i</td>\n",
       "      <td>36.125</td>\n",
       "    </tr>\n",
       "    <tr>\n",
       "      <th>12</th>\n",
       "      <td>Buick</td>\n",
       "      <td>Park Avenue</td>\n",
       "      <td>20.190</td>\n",
       "    </tr>\n",
       "    <tr>\n",
       "      <th>15</th>\n",
       "      <td>Cadillac</td>\n",
       "      <td>Seville</td>\n",
       "      <td>27.100</td>\n",
       "    </tr>\n",
       "    <tr>\n",
       "      <th>24</th>\n",
       "      <td>Chevrolet</td>\n",
       "      <td>Corvette</td>\n",
       "      <td>36.225</td>\n",
       "    </tr>\n",
       "    <tr>\n",
       "      <th>33</th>\n",
       "      <td>Chrysler</td>\n",
       "      <td>Town &amp; Country</td>\n",
       "      <td>19.540</td>\n",
       "    </tr>\n",
       "    <tr>\n",
       "      <th>39</th>\n",
       "      <td>Dodge</td>\n",
       "      <td>Viper</td>\n",
       "      <td>58.470</td>\n",
       "    </tr>\n",
       "    <tr>\n",
       "      <th>54</th>\n",
       "      <td>Ford</td>\n",
       "      <td>Expedition</td>\n",
       "      <td>23.575</td>\n",
       "    </tr>\n",
       "    <tr>\n",
       "      <th>61</th>\n",
       "      <td>Honda</td>\n",
       "      <td>Odyssey</td>\n",
       "      <td>19.490</td>\n",
       "    </tr>\n",
       "    <tr>\n",
       "      <th>64</th>\n",
       "      <td>Hyundai</td>\n",
       "      <td>Sonata</td>\n",
       "      <td>8.910</td>\n",
       "    </tr>\n",
       "    <tr>\n",
       "      <th>65</th>\n",
       "      <td>Infiniti</td>\n",
       "      <td>I30</td>\n",
       "      <td>19.690</td>\n",
       "    </tr>\n",
       "    <tr>\n",
       "      <th>0</th>\n",
       "      <td>Acura</td>\n",
       "      <td>Integra</td>\n",
       "      <td>16.360</td>\n",
       "    </tr>\n",
       "    <tr>\n",
       "      <th>69</th>\n",
       "      <td>Jeep</td>\n",
       "      <td>Grand Cherokee</td>\n",
       "      <td>18.810</td>\n",
       "    </tr>\n",
       "    <tr>\n",
       "      <th>73</th>\n",
       "      <td>Lexus</td>\n",
       "      <td>LS400</td>\n",
       "      <td>40.375</td>\n",
       "    </tr>\n",
       "    <tr>\n",
       "      <th>77</th>\n",
       "      <td>Lincoln</td>\n",
       "      <td>Town car</td>\n",
       "      <td>21.725</td>\n",
       "    </tr>\n",
       "    <tr>\n",
       "      <th>95</th>\n",
       "      <td>Mercedes-Benz</td>\n",
       "      <td>SL-Class</td>\n",
       "      <td>58.600</td>\n",
       "    </tr>\n",
       "    <tr>\n",
       "      <th>90</th>\n",
       "      <td>Mercury</td>\n",
       "      <td>Mountaineer</td>\n",
       "      <td>20.430</td>\n",
       "    </tr>\n",
       "    <tr>\n",
       "      <th>83</th>\n",
       "      <td>Mitsubishi</td>\n",
       "      <td>3000GT</td>\n",
       "      <td>20.940</td>\n",
       "    </tr>\n",
       "    <tr>\n",
       "      <th>105</th>\n",
       "      <td>Nissan</td>\n",
       "      <td>Pathfinder</td>\n",
       "      <td>17.810</td>\n",
       "    </tr>\n",
       "    <tr>\n",
       "      <th>112</th>\n",
       "      <td>Oldsmobile</td>\n",
       "      <td>Bravada</td>\n",
       "      <td>19.925</td>\n",
       "    </tr>\n",
       "    <tr>\n",
       "      <th>116</th>\n",
       "      <td>Plymouth</td>\n",
       "      <td>Voyager</td>\n",
       "      <td>12.025</td>\n",
       "    </tr>\n",
       "    <tr>\n",
       "      <th>120</th>\n",
       "      <td>Pontiac</td>\n",
       "      <td>Firebird</td>\n",
       "      <td>17.805</td>\n",
       "    </tr>\n",
       "    <tr>\n",
       "      <th>126</th>\n",
       "      <td>Porsche</td>\n",
       "      <td>Carrera Cabriolet</td>\n",
       "      <td>67.550</td>\n",
       "    </tr>\n",
       "    <tr>\n",
       "      <th>0</th>\n",
       "      <td>Acura</td>\n",
       "      <td>Integra</td>\n",
       "      <td>16.360</td>\n",
       "    </tr>\n",
       "    <tr>\n",
       "      <th>131</th>\n",
       "      <td>Saturn</td>\n",
       "      <td>SW</td>\n",
       "      <td>10.790</td>\n",
       "    </tr>\n",
       "    <tr>\n",
       "      <th>0</th>\n",
       "      <td>Acura</td>\n",
       "      <td>Integra</td>\n",
       "      <td>16.360</td>\n",
       "    </tr>\n",
       "    <tr>\n",
       "      <th>144</th>\n",
       "      <td>Toyota</td>\n",
       "      <td>Land Cruiser</td>\n",
       "      <td>34.080</td>\n",
       "    </tr>\n",
       "    <tr>\n",
       "      <th>147</th>\n",
       "      <td>Volkswagen</td>\n",
       "      <td>Passat</td>\n",
       "      <td>16.725</td>\n",
       "    </tr>\n",
       "    <tr>\n",
       "      <th>0</th>\n",
       "      <td>Acura</td>\n",
       "      <td>Integra</td>\n",
       "      <td>16.360</td>\n",
       "    </tr>\n",
       "  </tbody>\n",
       "</table>\n",
       "</div>"
      ],
      "text/plain": [
       "      Manufacturer              Model  4-year resale value\n",
       "3    Acura          RL                              29.725\n",
       "6    Audi           A8                              39.000\n",
       "9    BMW            528i                            36.125\n",
       "12   Buick          Park Avenue                     20.190\n",
       "15   Cadillac       Seville                         27.100\n",
       "24   Chevrolet      Corvette                        36.225\n",
       "33   Chrysler       Town & Country                  19.540\n",
       "39   Dodge          Viper                           58.470\n",
       "54   Ford           Expedition                      23.575\n",
       "61   Honda          Odyssey                         19.490\n",
       "64   Hyundai        Sonata                           8.910\n",
       "65   Infiniti       I30                             19.690\n",
       "0    Acura          Integra                         16.360\n",
       "69   Jeep           Grand Cherokee                  18.810\n",
       "73   Lexus          LS400                           40.375\n",
       "77   Lincoln        Town car                        21.725\n",
       "95   Mercedes-Benz  SL-Class                        58.600\n",
       "90   Mercury        Mountaineer                     20.430\n",
       "83   Mitsubishi     3000GT                          20.940\n",
       "105  Nissan         Pathfinder                      17.810\n",
       "112  Oldsmobile     Bravada                         19.925\n",
       "116  Plymouth       Voyager                         12.025\n",
       "120  Pontiac        Firebird                        17.805\n",
       "126  Porsche        Carrera Cabriolet               67.550\n",
       "0    Acura          Integra                         16.360\n",
       "131  Saturn         SW                              10.790\n",
       "0    Acura          Integra                         16.360\n",
       "144  Toyota         Land Cruiser                    34.080\n",
       "147  Volkswagen     Passat                          16.725\n",
       "0    Acura          Integra                         16.360"
      ]
     },
     "execution_count": 54,
     "metadata": {},
     "output_type": "execute_result"
    }
   ],
   "source": [
    "df.loc[max_resale,['Manufacturer','Model','4-year resale value']]"
   ]
  },
  {
   "cell_type": "markdown",
   "id": "f06ae36a-ab93-44c6-8b5c-45e3e61cec3d",
   "metadata": {},
   "source": [
    "Number of cars launched per year\n",
    "Extract the year from the latest launch column and count the no of cars launched in each year"
   ]
  },
  {
   "cell_type": "code",
   "execution_count": 56,
   "id": "7c3184ba-024e-4668-bdda-9652ca903bf8",
   "metadata": {},
   "outputs": [
    {
     "data": {
      "text/plain": [
       "Manufacturer                   object\n",
       "Model                          object\n",
       "Sales in thousands            float64\n",
       "4-year resale value           float64\n",
       "Vehicle type                   object\n",
       "Price in thousands            float64\n",
       "Engine size                    object\n",
       "Horsepower                    float64\n",
       "Wheelbase                      object\n",
       "Width                          object\n",
       "Length                         object\n",
       "Curb weight                    object\n",
       "Fuel capacity                 float64\n",
       "Fuel efficiency               float64\n",
       "Latest Launch          datetime64[ns]\n",
       "dtype: object"
      ]
     },
     "execution_count": 56,
     "metadata": {},
     "output_type": "execute_result"
    }
   ],
   "source": [
    "df['Latest Launch']=pd.to_datetime(df['Latest Launch'])\n",
    "df.dtypes"
   ]
  },
  {
   "cell_type": "code",
   "execution_count": 58,
   "id": "442d8280-0b2a-48db-94ef-caddca9d22fd",
   "metadata": {},
   "outputs": [
    {
     "data": {
      "text/plain": [
       "Latest Launch\n",
       "2014-05-10    2\n",
       "2015-01-24    2\n",
       "2015-04-26    2\n",
       "2015-06-25    2\n",
       "2015-09-21    2\n",
       "             ..\n",
       "2015-07-08    1\n",
       "2014-02-06    1\n",
       "2015-10-31    1\n",
       "2014-01-07    1\n",
       "2015-10-20    1\n",
       "Name: count, Length: 130, dtype: int64"
      ]
     },
     "execution_count": 58,
     "metadata": {},
     "output_type": "execute_result"
    }
   ],
   "source": [
    "df['Latest Launch'].dt.date.value_counts()"
   ]
  }
 ],
 "metadata": {
  "kernelspec": {
   "display_name": "Python [conda env:base] *",
   "language": "python",
   "name": "conda-base-py"
  },
  "language_info": {
   "codemirror_mode": {
    "name": "ipython",
    "version": 3
   },
   "file_extension": ".py",
   "mimetype": "text/x-python",
   "name": "python",
   "nbconvert_exporter": "python",
   "pygments_lexer": "ipython3",
   "version": "3.12.7"
  }
 },
 "nbformat": 4,
 "nbformat_minor": 5
}
